{
 "cells": [
  {
   "cell_type": "markdown",
   "metadata": {},
   "source": [
    "### Importamos las librerías"
   ]
  },
  {
   "cell_type": "code",
   "execution_count": 1,
   "metadata": {},
   "outputs": [],
   "source": [
    "import random\n",
    "import numpy as np\n",
    "import numpy_financial as npf\n",
    "import pandas as pd \n",
    "import seaborn as sns\n",
    "import matplotlib.pyplot as plt\n",
    "from scipy.stats import gaussian_kde\n",
    "import pandas_montecarlo as mc"
   ]
  },
  {
   "cell_type": "markdown",
   "metadata": {},
   "source": [
    "### Simulación de Montecarlo"
   ]
  },
  {
   "cell_type": "markdown",
   "metadata": {},
   "source": [
    "##### Variablea aleatorias representada con distribución normal para Inversiones, Ingresos, Egresos y Tasa"
   ]
  },
  {
   "cell_type": "code",
   "execution_count": 2,
   "metadata": {},
   "outputs": [],
   "source": [
    "df=pd.read_csv(\"datos.csv\")\n",
    "#df.describe()"
   ]
  },
  {
   "cell_type": "code",
   "execution_count": 3,
   "metadata": {},
   "outputs": [],
   "source": [
    "in_m=df.Ingresos.mean() \n",
    "in_stdev=df.Ingresos.std()\n",
    "out_m=df.Costos.mean()\n",
    "out_stdev=df.Costos.std()\n",
    "inv=df.Inversiones\n",
    "inv_m=df.Inversiones.mean() \n",
    "inv_stdev=df.Inversiones.std()\n",
    "r_m=df.Tasa.mean()\n",
    "r_stdev=df.Tasa.std()\n",
    "iterations = 1000"
   ]
  },
  {
   "cell_type": "markdown",
   "metadata": {},
   "source": [
    "#### Modelo para simulación de VAN"
   ]
  },
  {
   "cell_type": "markdown",
   "metadata": {},
   "source": [
    "###### Genera una simulación de Monte Carlo para modelar el VAN (NPV)."
   ]
  },
  {
   "cell_type": "code",
   "execution_count": 4,
   "metadata": {
    "scrolled": false
   },
   "outputs": [],
   "source": [
    "def npv_simulator(in_m, \n",
    "                 in_stdev,\n",
    "                 out_m, \n",
    "                 out_stdev,\n",
    "                 inv,\n",
    "                 inv_m, \n",
    "                 inv_stdev,\n",
    "                 r_m, \n",
    "                 r_stdev,\n",
    "                 iterations=1000):\n",
    "    ''' Esta función permite generar una simulación del VAN aplicando el método de montecarlo, contemplando las variables\n",
    "    aleatorias de Ingresos, Egresos, inversiones y tasa de descuento como distribuciones normales.\n",
    "    \n",
    "    Args:\n",
    "        in_m (float): Valor medio estimado para el vector de ingresos.\n",
    "        in_stdev (float): Desviación estándar estimada para los ingresos.\n",
    "        out_m (float): Valor medio estimado para el vector de egresos/gastos.\n",
    "        out_stdev (float): Desviación estándar estimada para los egresos.\n",
    "        inv_m (float): Valor medio estimado para el vector de inversiones.\n",
    "        inv_stdev (float): Desviación estándar estimada para las inversiones.\n",
    "        r_m (float) : Valor medio estimado para la tasa de descuento.\n",
    "        r_stdev (float) : Desviación estándar estimada para la tasa de descuento.\n",
    "        iterations (int): Cantidad de muestras a generar en forma aleatoria para realizar las simulaciones.\n",
    "        \n",
    "    Returns:\n",
    "        npv (array): Vector de valores para el VAN (NPV) simulados a partir de las ditribuciones normales de ingresos, egresos, \n",
    "        inversiones y tasa de descuento.\n",
    "    \n",
    "    Raises:\n",
    "        None\n",
    "    \n",
    "    Notes:\n",
    "        Sólo se considera en esta funciópn la simulación de las variables mediante una generación de valoresa a partir de\n",
    "        distribución normal.\n",
    "        \n",
    "    '''\n",
    "    npv=[]\n",
    "\n",
    "    for i in range(iterations):\n",
    "        inFlow = np.random.normal(in_m, in_stdev, iterations)\n",
    "        outFlow = np.random.normal(out_m, out_stdev, iterations)\n",
    "        invest=np.random.pareto(np.array(inv),size=iterations)\n",
    "        #rate = np.random.logistic(loc=r_m,scale=r_stdev, size=iterations)\n",
    "    \n",
    "        cashFlow = -invest + inFlow - outFlow\n",
    "        npv.append(npf.npv(rate=r_m, values=cashFlow))\n",
    "\n",
    "    npv=np.array(npv)\n",
    "    \n",
    "    #Depura los valores sin definir para evitar errores\n",
    "    mask = np.isfinite(npv)\n",
    "    npv=npv[mask]\n",
    "\n",
    "    return npv"
   ]
  },
  {
   "cell_type": "code",
   "execution_count": 5,
   "metadata": {},
   "outputs": [],
   "source": [
    "def plot_pdf(npv):\n",
    "    # Crear un estimador de la densidad con la función KDE\n",
    "    kde = gaussian_kde(npv)\n",
    "    \n",
    "    # Generar un rango de valores para graficar la densidad\n",
    "    x_range = np.linspace(min(npv), max(npv), len(npv))\n",
    "    \n",
    "    # Evaluar la densidad para los valores generados\n",
    "    pdf_values = kde(x_range)\n",
    "    \n",
    "    # Graficar la función de densidad\n",
    "    plt.figure(figsize=(8, 6))\n",
    "    plt.plot(x_range, pdf_values, label='Densidad de Probabilidad')\n",
    "    plt.fill_between(x_range, pdf_values, alpha=0.5)\n",
    "    plt.title('Función de Densidad de Probabilidad (PDF)')\n",
    "    plt.xlabel('Valor de NPV')\n",
    "    plt.ylabel('Densidad')\n",
    "    plt.legend()\n",
    "    plt.grid(True)\n",
    "    plt.show()"
   ]
  },
  {
   "cell_type": "code",
   "execution_count": 6,
   "metadata": {},
   "outputs": [],
   "source": [
    "def plot_cdf(npv):\n",
    "    # Ordenar los valores de npv\n",
    "    sorted_npv = np.sort(npv)\n",
    "    \n",
    "    # Crear el vector de probabilidades acumuladas\n",
    "    cdf = np.arange(1, len(npv) + 1) / len(npv)\n",
    "\n",
    "    # Calcular el valor de la CDF en npv=0\n",
    "    cdf_value_at_zero = cdf[np.searchsorted(sorted_npv, 0, side='right') - 1]\n",
    "\n",
    "    # Graficar la CDF\n",
    "    plt.figure(figsize=(8, 6))\n",
    "    plt.plot(sorted_npv, cdf, label='Función de Probabilidad Acumulada (CDF)', color='blue')\n",
    "    plt.fill_between(sorted_npv, cdf, alpha=0.2, color='blue')\n",
    "    \n",
    "    # Agregar una línea vertical de referencia en npv=0\n",
    "    plt.axvline(x=0, color='red', linestyle='--', label='Línea de referencia (npv=0)')\n",
    "\n",
    "    # Mostrar el valor de la CDF en npv=0 como texto\n",
    "    plt.text(0, cdf_value_at_zero, f'P(VAN<=0)={cdf_value_at_zero:.2f}', color='black', \n",
    "             ha='left', va='bottom', fontsize=10, bbox=dict(facecolor='white', alpha=0.5))\n",
    "\n",
    "    #Personalización del gráfico\n",
    "    plt.title('Función de Probabilidad Acumulada (CDF)')\n",
    "    plt.xlabel('Valor de NPV')\n",
    "    plt.ylabel('Probabilidad acumulada')\n",
    "    plt.grid(True)\n",
    "    plt.legend()\n",
    "    plt.show()"
   ]
  },
  {
   "cell_type": "code",
   "execution_count": 8,
   "metadata": {},
   "outputs": [],
   "source": [
    "npv= npv_simulator(in_m, \n",
    "                   in_stdev,\n",
    "                   out_m, \n",
    "                   out_stdev,\n",
    "                   #inv,\n",
    "                   inv_m, \n",
    "                   inv_stdev,\n",
    "                   r_m, \n",
    "                   r_stdev,\n",
    "                   iterations)"
   ]
  },
  {
   "cell_type": "code",
   "execution_count": null,
   "metadata": {},
   "outputs": [],
   "source": [
    "plot_pdf(npv)"
   ]
  },
  {
   "cell_type": "code",
   "execution_count": null,
   "metadata": {},
   "outputs": [],
   "source": [
    "plot_cdf(npv)"
   ]
  }
 ],
 "metadata": {
  "kernelspec": {
   "display_name": "montecarlo",
   "language": "python",
   "name": "python3"
  },
  "language_info": {
   "codemirror_mode": {
    "name": "ipython",
    "version": 3
   },
   "file_extension": ".py",
   "mimetype": "text/x-python",
   "name": "python",
   "nbconvert_exporter": "python",
   "pygments_lexer": "ipython3",
   "version": "3.12.4"
  }
 },
 "nbformat": 4,
 "nbformat_minor": 4
}
